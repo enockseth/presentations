{
 "cells": [
  {
   "cell_type": "markdown",
   "metadata": {
    "slideshow": {
     "slide_type": "slide"
    }
   },
   "source": [
    "# Geo+Python: A Shallow Dive into GIS Development\n",
    "\n",
    "- - -\n",
    "\n",
    "### Enock Seth Nyamador [@enock4seth](http://twitter.com/enock4seth/)\n",
    "#### Open Source evangelist\n",
    "\n",
    "- - -\n",
    "CC-BY-SA 4.0"
   ]
  },
  {
   "cell_type": "markdown",
   "metadata": {
    "slideshow": {
     "slide_type": "slide"
    }
   },
   "source": [
    "# !\n"
   ]
  },
  {
   "cell_type": "markdown",
   "metadata": {
    "slideshow": {
     "slide_type": "fragment"
    }
   },
   "source": [
    "### Neither GIS nor Python expert\n",
    "### Convincing enough\n",
    "### Lifegaurd is on leave"
   ]
  },
  {
   "cell_type": "markdown",
   "metadata": {
    "slideshow": {
     "slide_type": "slide"
    }
   },
   "source": [
    "# What?"
   ]
  },
  {
   "cell_type": "markdown",
   "metadata": {
    "slideshow": {
     "slide_type": "fragment"
    }
   },
   "source": [
    "### - GIS Basics"
   ]
  },
  {
   "cell_type": "markdown",
   "metadata": {
    "slideshow": {
     "slide_type": "fragment"
    }
   },
   "source": [
    "### - OSGeo, QGIS, PyQGIS"
   ]
  },
  {
   "cell_type": "markdown",
   "metadata": {
    "slideshow": {
     "slide_type": "fragment"
    }
   },
   "source": [
    "### -  OpenStreetMap, etc"
   ]
  },
  {
   "cell_type": "markdown",
   "metadata": {
    "slideshow": {
     "slide_type": "fragment"
    }
   },
   "source": [
    "### - Py projects; GeoNode, etc"
   ]
  },
  {
   "cell_type": "markdown",
   "metadata": {
    "slideshow": {
     "slide_type": "slide"
    }
   },
   "source": [
    "# Why?\n",
    "> #### [Everything that happens, happens somewhere](https://www.youtube.com/watch?v=Mkge03NJhfU)\n",
    "\n",
    "#### PS: Snakes undertand geography.\n",
    "<img src=\"assets/snake.png\" width=\"500\" />\n",
    "\n"
   ]
  },
  {
   "cell_type": "markdown",
   "metadata": {
    "slideshow": {
     "slide_type": "slide"
    }
   },
   "source": [
    "# GIS"
   ]
  },
  {
   "cell_type": "markdown",
   "metadata": {
    "slideshow": {
     "slide_type": "fragment"
    }
   },
   "source": [
    "* Geographic Information Systems\n",
    "* hardware, software and data capturing, managing, analysing and displaying spatial data\n",
    "* use methods for understanding, interpreting, and visualising relationships and patterns of geospatial data\n",
    "<img src=\"assets/map_layers.jpg\" width=\"500\" />"
   ]
  },
  {
   "cell_type": "markdown",
   "metadata": {
    "slideshow": {
     "slide_type": "slide"
    }
   },
   "source": [
    "# Data Types"
   ]
  },
  {
   "cell_type": "markdown",
   "metadata": {
    "slideshow": {
     "slide_type": "fragment"
    }
   },
   "source": [
    "###  - Vector \n",
    "###  - Raster"
   ]
  },
  {
   "cell_type": "markdown",
   "metadata": {
    "slideshow": {
     "slide_type": "slide"
    }
   },
   "source": [
    "# Vector"
   ]
  },
  {
   "cell_type": "markdown",
   "metadata": {
    "slideshow": {
     "slide_type": "fragment"
    }
   },
   "source": [
    "### GeoPackage (gpkg), GeoJSON, PostGIS\n",
    "* SHPs\n",
    "![](assets/vector.png)"
   ]
  },
  {
   "cell_type": "markdown",
   "metadata": {
    "slideshow": {
     "slide_type": "slide"
    }
   },
   "source": [
    "# Raster"
   ]
  },
  {
   "cell_type": "markdown",
   "metadata": {
    "slideshow": {
     "slide_type": "fragment"
    }
   },
   "source": [
    "### Geotiffs, DEM, Orthophotos, etc\n",
    "![](assets/raster.jpg)"
   ]
  },
  {
   "cell_type": "markdown",
   "metadata": {
    "slideshow": {
     "slide_type": "slide"
    }
   },
   "source": [
    "# Cordinate Reference System\n",
    "\n",
    "![](assets/crs.jpg)"
   ]
  },
  {
   "cell_type": "markdown",
   "metadata": {
    "slideshow": {
     "slide_type": "slide"
    }
   },
   "source": [
    "# Geospatial development tasks - Analysis\n",
    "\n",
    "### - Disaster Risk Management; Accra Floods\n",
    "### - How many hours do we waste in moving from Madina to Accra  Central in a trotro?\n",
    "### - Accessbility, connectivity, etc"
   ]
  },
  {
   "cell_type": "markdown",
   "metadata": {
    "slideshow": {
     "slide_type": "slide"
    }
   },
   "source": [
    "# Data Sources"
   ]
  },
  {
   "cell_type": "markdown",
   "metadata": {},
   "source": [
    "## What kinds of GeoSpatial Data is available?\n",
    "\n",
    "* It depends!\n",
    "\n",
    "### Government\n",
    "* Local \n",
    "* State \n",
    "* Federal\n",
    "\n",
    "### Private\n",
    "* Energy\n",
    "* Technology\n",
    "* Transportation\n",
    "\n",
    "### The Crowd"
   ]
  },
  {
   "cell_type": "markdown",
   "metadata": {
    "slideshow": {
     "slide_type": "slide"
    }
   },
   "source": [
    "# OpenStreetMap"
   ]
  },
  {
   "cell_type": "markdown",
   "metadata": {
    "slideshow": {
     "slide_type": "fragment"
    }
   },
   "source": [
    "* Online, Offline, Open Data -- XML\n",
    "* [osm.org](https://osm.org)\n",
    "* Map the world from scratch\n",
    "* Save lives\n",
    "* Used by FB, Uber, Humanitarian Response and preparedness [Earthquake, flood, tsunami, etc] (OCHA, Red Cross, UNICEF), Mapbox, etc\n",
    "* Try it: [OsmAnd](https://osmand.net) OR [MAPS.ME](https://maps.me/en/download/)\n",
    "![](assets/map-world-from-scratch.jpg)\n",
    "\n"
   ]
  },
  {
   "cell_type": "markdown",
   "metadata": {
    "slideshow": {
     "slide_type": "slide"
    }
   },
   "source": [
    "# Features (POIs) in OpenStreetMap\n",
    "- Attributes are key-value pairs\n",
    "- [Map Features](https://wiki.openstreetmap.org/wiki/Map_Features)\n",
    "![](assets/map_features.jpg)"
   ]
  },
  {
   "cell_type": "markdown",
   "metadata": {
    "slideshow": {
     "slide_type": "slide"
    }
   },
   "source": [
    "```xml \n",
    "<?xml version=\"1.0\" encoding=\"UTF-8\"?>\n",
    "<osm version=\"0.6\" generator=\"CGImap 0.7.5 (21114 thorn-02.openstreetmap.org)\" copyright=\"OpenStreetMap and contributors\" attribution=\"http://www.openstreetmap.org/copyright\" license=\"http://opendatacommons.org/licenses/odbl/1-0/\">\n",
    " <way id=\"308668766\" visible=\"true\" version=\"14\" changeset=\"72300285\" timestamp=\"2019-07-16T11:27:32Z\" user=\"Michael008\" uid=\"7666560\">\n",
    "  ........\n",
    "  <tag k=\"addr:city\" v=\"Accra\"/>\n",
    "  <tag k=\"amenity\" v=\"university\"/>\n",
    "  <tag k=\"contact:twitter\" v=\"https://twitter.com/UnivofGhana\"/>\n",
    "  <tag k=\"contact:website\" v=\"http://ug.edu.gh/\"/>\n",
    "  <tag k=\"description\" v=\"University of Ghana is the first and largest universitiy and tertiary institution in Ghana.\"/>\n",
    "  <tag k=\"name\" v=\"University of Ghana\"/>\n",
    "  <tag k=\"opening_hours\" v=\"24/7\"/>\n",
    "  <tag k=\"operator:type\" v=\"public\"/>\n",
    "  <tag k=\"project:oif-dfen_carteinnov\" v=\"yes\"/>\n",
    "  <tag k=\"short_name\" v=\"UG, Legon\"/>\n",
    "  <tag k=\"source\" v=\"local_knowledge;oif-dfen_carteinnov\"/>\n",
    "  <tag k=\"source:geometry\" v=\"Bing\"/>\n",
    "  <tag k=\"start_date\" v=\"1948\"/>\n",
    "  <tag k=\"wikidata\" v=\"Q2303765\"/>\n",
    "  <tag k=\"wikipedia\" v=\"en:University of Ghana\"/>\n",
    " </way>\n",
    "</osm>\n",
    "```"
   ]
  },
  {
   "cell_type": "markdown",
   "metadata": {
    "slideshow": {
     "slide_type": "slide"
    }
   },
   "source": [
    "# Overpass API\n",
    "\n",
    "#### - [overpass-turbo.eu/](http://overpass-turbo.eu/)"
   ]
  },
  {
   "cell_type": "code",
   "execution_count": 26,
   "metadata": {
    "scrolled": true,
    "slideshow": {
     "slide_type": "fragment"
    }
   },
   "outputs": [
    {
     "data": {
      "text/plain": [
       "{'version': 0.6,\n",
       " 'generator': 'Overpass API 0.7.55.7 8b86ff77',\n",
       " 'osm3s': {'timestamp_osm_base': '2019-08-09T01:39:03Z',\n",
       "  'timestamp_areas_base': '2019-08-09T00:37:02Z',\n",
       "  'copyright': 'The data included in this document is from www.openstreetmap.org. The data is made available under ODbL.'},\n",
       " 'elements': [{'type': 'count',\n",
       "   'id': 0,\n",
       "   'tags': {'nodes': '1425',\n",
       "    'ways': '0',\n",
       "    'relations': '0',\n",
       "    'areas': '0',\n",
       "    'total': '1425'}}]}"
      ]
     },
     "execution_count": 26,
     "metadata": {},
     "output_type": "execute_result"
    }
   ],
   "source": [
    "import requests\n",
    "\n",
    "overpass_url = \"http://overpass-api.de/api/interpreter\"\n",
    "overpass_query = \"\"\"\n",
    "    [out:json];\n",
    "    area[\"ISO3166-1\"=\"GH\"][admin_level=2];\n",
    "    (\n",
    "    node[\"amenity\"=\"school\"](area);\n",
    "    );\n",
    "    out count;\"\"\"\n",
    "response = requests.get(overpass_url, params={'data': overpass_query})\n",
    "response.json()"
   ]
  },
  {
   "cell_type": "code",
   "execution_count": 27,
   "metadata": {
    "slideshow": {
     "slide_type": "slide"
    }
   },
   "outputs": [
    {
     "data": {
      "image/png": "[encoded data removed]",
      "text/plain": [
       "<Figure size 257.332x432 with 1 Axes>"
      ]
     },
     "metadata": {},
     "output_type": "display_data"
    }
   ],
   "source": [
    "import osmnx as ox\n",
    "import matplotlib.pyplot as plt\n",
    "%matplotlib inline\n",
    "\n",
    "# Specify the name that is used to seach for the data\n",
    "place_name = \"University of Ghana, Accra, Ghana\"\n",
    "\n",
    "# Fetch OSM street network from the location\n",
    "graph = ox.graph_from_place(place_name)\n",
    "type(graph)\n",
    "\n",
    "# Plot the streets\n",
    "fig, ax = ox.plot_graph(graph)"
   ]
  },
  {
   "cell_type": "markdown",
   "metadata": {
    "slideshow": {
     "slide_type": "slide"
    }
   },
   "source": [
    "# OSM in Africa"
   ]
  },
  {
   "cell_type": "markdown",
   "metadata": {
    "slideshow": {
     "slide_type": "fragment"
    }
   },
   "source": [
    "### TL;DR\n",
    "    \n",
    "   * OSM [Togo, Benin,  Côte d'Ivoire , Burkina Faso, Mali, Guinea, Uganda, etc]\n",
    "   * [Open Cities Accra](https://opencitiesproject.org/) - OpenDRI  \n",
    "   * [Map Kibera](http://mapkibera.org/)\n",
    "   * [Ramani Huria](https://wiki.openstreetmap.org/wiki/Dar_es_Salaam/Ramani_Huria) - HOTOSM\n",
    "   * [Ebola Response](https://wiki.openstreetmap.org/wiki/2014_West_Africa_Ebola_Response)\n",
    "    \n",
    "#### - [2019.stateofthemap.africa](https://2019.stateofthemap.africa/)  | 22-24 November 2019 | Grand-Bassam,  Côte d'Ivoire\n",
    "    \n",
    "\n",
    "### Ghana\n",
    "\n",
    "* [Open Cities Accra](https://opencitiesproject.org/accra/)\n",
    "* [AccraMobile3](https://wiki.openstreetmap.org/wiki/AccraMobile3)\n",
    "* Larabanga Mapping Initiative\n",
    "* [OpenStreetMap Ghana](https://osmghana.org)"
   ]
  },
  {
   "cell_type": "markdown",
   "metadata": {
    "slideshow": {
     "slide_type": "slide"
    }
   },
   "source": [
    "- Data Reuse: [trotro.app](https://www.trotro.app/)\n",
    "- [github.com/trufi-association/trufi-app](https://github.com/trufi-association/trufi-app) | GPL 3.0\n",
    "- [github.com/grote/osm2gtfs](https://github.com/grote/osm2gtfs) | GPL 3.0\n",
    "<img src=\"assets/Accra_transit_gif.gif\" width=\"700\"/>"
   ]
  },
  {
   "cell_type": "markdown",
   "metadata": {
    "slideshow": {
     "slide_type": "slide"
    }
   },
   "source": [
    "# GIS Applications"
   ]
  },
  {
   "cell_type": "markdown",
   "metadata": {
    "slideshow": {
     "slide_type": "fragment"
    }
   },
   "source": [
    "## FOSS4G: OSGeo - QGIS, GDAL, GRASS, etc \n",
    "* Your Open Source geospatial compass\n",
    "![](assets/osgeo.svg)\n",
    "\n",
    "## $$$: ESRI - ArcGIS\n"
   ]
  },
  {
   "cell_type": "markdown",
   "metadata": {
    "slideshow": {
     "slide_type": "slide"
    }
   },
   "source": [
    "# QGIS"
   ]
  },
  {
   "cell_type": "markdown",
   "metadata": {
    "slideshow": {
     "slide_type": "fragment"
    }
   },
   "source": [
    "* the user friendly Open Source Geographic Information System\n",
    "* [qgis.org](https://qgis.org/en/site/)\n",
    "* Python plugins\n",
    "![](assets/qgis_py.jpg)"
   ]
  },
  {
   "cell_type": "markdown",
   "metadata": {
    "slideshow": {
     "slide_type": "slide"
    }
   },
   "source": [
    "Tweet by  [@klaskarlsson](https://twitter.com/klaskarlsson/status/1159514845127028738?s=09)\n",
    "![](assets/pyqgis.jpg)"
   ]
  },
  {
   "cell_type": "markdown",
   "metadata": {
    "slideshow": {
     "slide_type": "slide"
    }
   },
   "source": [
    "# GeoNode\n",
    "* A web-based application and platform for developing geospatial information systems (GIS) and for deploying spatial data infrastructures (SDI).\n",
    "* Django\n",
    "* http://geonode.org/\n",
    "![](assets/genode.jpg)\n",
    "\n",
    "### Contributors\n",
    "\n",
    "* World Bank\n",
    "* GeoSoulutions\n",
    "* Terranodo\n",
    "* Boundless\n",
    "* ......."
   ]
  },
  {
   "cell_type": "markdown",
   "metadata": {
    "slideshow": {
     "slide_type": "slide"
    }
   },
   "source": [
    "# Some libraries\n",
    "\n",
    "### Reading and writing geospatial data\n",
    "* GDAL/OGR\n",
    "\n",
    "### Dealing with Projections\n",
    "* pyproj\n",
    "\n",
    "### Analysing and manipulating geospatial data\n",
    "* shapely\n",
    "\n",
    "### Visualalizing geospatial data\n",
    "* mapnik"
   ]
  },
  {
   "cell_type": "markdown",
   "metadata": {
    "slideshow": {
     "slide_type": "slide"
    }
   },
   "source": [
    "### - GIS is fun !\n",
    "### - There are many python geospatial libraries\n",
    "### - Python loves Geo and vice versa\n",
    "### - Geo Data Science\n",
    "### - Taking over !\n",
    "### - Go out, get XYZ. Create accessible Open Data :) \n",
    "### - No rocket science"
   ]
  },
  {
   "cell_type": "markdown",
   "metadata": {
    "slideshow": {
     "slide_type": "slide"
    }
   },
   "source": [
    "# Community of Practice\n",
    "\n",
    "### - *cons, Wikimania, PyCon, SOTM, FOSS4G, etc...\n",
    "### - Linux User Groups - [Linux Accra](https://linuxaccra.org), etc\n",
    "<img src=\"assets/sotm-2017-group.jpg\" width=\"500\" />"
   ]
  },
  {
   "cell_type": "markdown",
   "metadata": {
    "slideshow": {
     "slide_type": "slide"
    }
   },
   "source": [
    "## [This slide intentionally left blank](https://this-page-intentionally-left-blank.org/)"
   ]
  },
  {
   "cell_type": "markdown",
   "metadata": {
    "slideshow": {
     "slide_type": "slide"
    }
   },
   "source": [
    "# Geo+Python: A Shallow Dive into GIS Development\n",
    "\n",
    "### Enock Seth Nyamador [@enock4seth](http://twitter.com/enock4seth/)\n",
    "\n",
    "- open [at] enockseth [dot] co\n",
    "- [open.enockseth.co](http://open.enockseth.co)\n",
    "- Slides @ [open.enockseth.co/slides/geo+python/](https://open.enockseth.co/slides/geo+python/)\n",
    "\n",
    "### Resources\n",
    "- [Data Science with OpenStreetMap and Python](https://github.com/njanakiev/osm-data-science)\n",
    "- [Introduction to Python GIS](https://automating-gis-processes.github.io/CSC/notebooks/L3/retrieve_osm_data.html)\n",
    "- [Introduction to Geospatial Data with Python](https://github.com/SocialDataSci/Geospatial_Data_with_Python)\n",
    "- [Workshop QGIS Python GeoPython 2018](https://giswiki.hsr.ch/Workshop_QGIS_Python_GeoPython_2018)\n",
    "- [QGIS Tutorials and Tips](https://www.qgistutorials.com/en/)\n",
    "- [PyQGIS 101](https://anitagraser.com/pyqgis-101-introduction-to-qgis-python-programming-for-non-programmers/)"
   ]
  },
  {
   "cell_type": "code",
   "execution_count": null,
   "metadata": {},
   "outputs": [],
   "source": []
  }
 ],
 "metadata": {
  "celltoolbar": "Slideshow",
  "kernelspec": {
   "display_name": "Python 3",
   "language": "python",
   "name": "python3"
  },
  "language_info": {
   "codemirror_mode": {
    "name": "ipython",
    "version": 3
   },
   "file_extension": ".py",
   "mimetype": "text/x-python",
   "name": "python",
   "nbconvert_exporter": "python",
   "pygments_lexer": "ipython3",
   "version": "3.7.4"
  }
 },
 "nbformat": 4,
 "nbformat_minor": 2
}
